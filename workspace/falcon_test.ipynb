{
 "cells": [
  {
   "cell_type": "code",
   "execution_count": 2,
   "metadata": {
    "collapsed": true
   },
   "outputs": [],
   "source": [
    "from falcon import AutoML\n",
    "from falcon.datasets import load_churn_dataset, load_insurance_dataset"
   ]
  },
  {
   "cell_type": "code",
   "execution_count": 3,
   "outputs": [
    {
     "name": "stdout",
     "output_type": "stream",
     "text": [
      "Loading churn dataset ...\n",
      "   credit_score country  gender  age  tenure    balance  products_number  \\\n",
      "0           619  France  Female   42       2       0.00                1   \n",
      "1           608   Spain  Female   41       1   83807.86                1   \n",
      "2           502  France  Female   42       8  159660.80                3   \n",
      "3           699  France  Female   39       1       0.00                2   \n",
      "4           850   Spain  Female   43       2  125510.82                1   \n",
      "\n",
      "   credit_card  active_member  estimated_salary  churn  \n",
      "0            1              1         101348.88      1  \n",
      "1            0              1         112542.58      0  \n",
      "2            1              0         113931.57      1  \n",
      "3            0              0          93826.63      0  \n",
      "4            1              1          79084.10      0  \n",
      "Dataset shape: (10000, 11)\n",
      "This dataset can be used for `tabular_classification` task\n",
      "\n",
      "Initializing a new TabularTaskManager for task `tabular_classification`\n",
      "<class 'pandas.core.frame.DataFrame'>\n",
      "Beginning training\n",
      "Beginning the main training phase\n",
      "Fitting the pipeline...\n",
      "Fitting stacked model... \n",
      "Setting up learner config [mid dataset]\n",
      "\t -> Filtering base classifiers:\n",
      "\t Using 0.55 as baseline score for 2 classes classification task\n",
      "\t\t-> LogisticRegression base score: 0.7488515340349204\n",
      "\t\t-> DecisionTreeClassifier base score: 0.7025341646707322\n",
      "\t\t-> GaussianNB base score: 0.5670274544734064\n",
      "\t\t-> LinearDiscriminantAnalysis base score: 0.7474812651010124\n",
      "\t\t-> AdaBoostClassifier_50 base score: 0.7580471519797449\n",
      "\t\t-> GradientBoostingClassifier_100 base score: 0.7662380813780189\n",
      "\t\t-> HistGradientBoostingClassifier_50 base score: 0.765570919088381\n",
      "\t\t-> HistGradientBoostingClassifier base score: 0.7720259991653896\n",
      "\t\t-> HistGradientBoostingClassifier_150 base score: 0.7719058924194233\n",
      "\t\t-> RandomForestClassifier_100 base score: 0.7564419297033627\n",
      "\t\t-> BaggingClassifier_10 base score: 0.7274339588235501\n",
      "\t\t-> ExtraTreesClassifier_100 base score: 0.7600924734274783\n",
      "\t\t-> AdaBoostClassifier_25 base score: 0.7565260920946967\n",
      "\t\t-> AdaBoostClassifier_100 base score: 0.7601485816883677\n",
      "\t\t-> GradientBoostingClassifier_10 base score: 0.744503143815993\n",
      "\t\t-> GradientBoostingClassifier_25 base score: 0.7544272924608031\n",
      "\t\t-> GradientBoostingClassifier_50 base score: 0.7665422933550285\n",
      "\t\t-> RandomForestClassifier_10 base score: 0.753397179858537\n",
      "\t\t-> RandomForestClassifier_25 base score: 0.7497746902648661\n",
      "\t\t-> RandomForestClassifier_50 base score: 0.753397179858537\n",
      "\t\t-> BaggingClassifier_25 base score: 0.7382093749890414\n",
      "\t\t-> BaggingClassifier_50 base score: 0.7445417182453544\n",
      "\t\t-> BaggingClassifier_100 base score: 0.7445724024505282\n",
      "\t\t-> ExtraTreesClassifier_10 base score: 0.7508074329418614\n",
      "\t\t-> ExtraTreesClassifier_25 base score: 0.7610971619740289\n",
      "\t\t-> ExtraTreesClassifier_50 base score: 0.7719032623446941\n",
      "\t -> Fitting the final estimator\n",
      "Finished training\n",
      "\n",
      "        N_SAMPLES  N_CLASSES    ACC      BACC  PRECISION    RECALL        F1  \\\n",
      "train       7500          2  0.852  0.865184   0.779034  0.865184  0.805137   \n",
      "eval        2500          2  0.796  0.787106   0.715824  0.787106  0.734396   \n",
      "\n",
      "       B_PRECISION  B_RECALL      B_F1     SCORE  SC_SCORE  \n",
      "train     0.890387     0.852  0.861760  0.865184  0.865184  \n",
      "eval      0.844140     0.796  0.810224  0.787106  0.787106   \n",
      "\n",
      "Saving the model ...\n",
      "Serializing to onnx...\n",
      "\t -> Merging step 1 ::: io_map [('falcon-pl-0/transformed_column', 'falcon-pl-1/model_input')] ::: outputs: ['falcon-pl-1/label', 'falcon-pl-1/probabilities']\n",
      "\t -> Merging step 2 ::: io_map [('falcon-pl-1/label', 'falcon-pl-2/encoded_labels')] ::: outputs: ['falcon-pl-2/decoded_labels']\n",
      "Serialization completed.\n",
      "The model was saved as `falcon_20230819.105110.onnx`\n"
     ]
    },
    {
     "data": {
      "text/plain": "<falcon.tabular.tabular_manager.TabularTaskManager at 0x7f8fba6c35b0>"
     },
     "execution_count": 3,
     "metadata": {},
     "output_type": "execute_result"
    }
   ],
   "source": [
    "df = load_churn_dataset()\n",
    "\n",
    "AutoML(task = 'tabular_classification', train_data = df)\n"
   ],
   "metadata": {
    "collapsed": false
   }
  },
  {
   "cell_type": "code",
   "execution_count": null,
   "outputs": [],
   "source": [],
   "metadata": {
    "collapsed": false
   }
  }
 ],
 "metadata": {
  "kernelspec": {
   "display_name": "Python 3",
   "language": "python",
   "name": "python3"
  },
  "language_info": {
   "codemirror_mode": {
    "name": "ipython",
    "version": 2
   },
   "file_extension": ".py",
   "mimetype": "text/x-python",
   "name": "python",
   "nbconvert_exporter": "python",
   "pygments_lexer": "ipython2",
   "version": "2.7.6"
  }
 },
 "nbformat": 4,
 "nbformat_minor": 0
}
