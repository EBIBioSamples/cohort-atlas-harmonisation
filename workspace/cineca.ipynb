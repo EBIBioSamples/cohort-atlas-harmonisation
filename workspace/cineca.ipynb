{
 "cells": [
  {
   "cell_type": "code",
   "execution_count": 25,
   "metadata": {
    "collapsed": true
   },
   "outputs": [],
   "source": [
    "import pandas as pd\n",
    "import numpy as np\n",
    "import math\n",
    "import json\n",
    "import requests"
   ]
  },
  {
   "cell_type": "code",
   "execution_count": 2,
   "outputs": [
    {
     "data": {
      "text/plain": "           eid    Sample name     Accession Subject id    EGA sample id  \\\n0        fake1     UKB_FAKE_1  SAMEA7082814    HG00096  EGAN00002587077   \n1        fake2     UKB_FAKE_2  SAMEA7083131    HG00097  EGAN00002588943   \n2        fake3     UKB_FAKE_3  SAMEA7082831    HG00099  EGAN00002589008   \n3        fake4     UKB_FAKE_4  SAMEA7084191    HG00100  EGAN00002587535   \n4        fake5     UKB_FAKE_5  SAMEA7082531    HG00101  EGAN00002589004   \n...        ...            ...           ...        ...              ...   \n2516  fake2517  UKB_FAKE_2517  SAMEA7784064    NA11993              NaN   \n2517  fake2518  UKB_FAKE_2518  SAMEA7784065    NA18487              NaN   \n2518  fake2519  UKB_FAKE_2519  SAMEA7784066    NA19150              NaN   \n2519  fake2520  UKB_FAKE_2520  SAMEA7784067    NA20537              NaN   \n2520  fake2521  UKB_FAKE_2521  SAMEA7784068    NA20816              NaN   \n\n      Platelet count-0.0       Ethnic background-0.0  \\\n0               244.9589                     African   \n1               215.7736                     British   \n2               312.3504      Asian or Asian British   \n3               150.0247             White and Asian   \n4               215.5871     White and Black African   \n...                  ...                         ...   \n2516            217.7275                   Pakistani   \n2517            252.7306                 Bangladeshi   \n2518            175.0045  Any other Asian background   \n2519            310.7993                     British   \n2520            160.4683      Asian or Asian British   \n\n      Body mass index (BMI)-0.0  Weight-0.0 Diabetes diagnosed by doctor-0.0  \\\n0                     26.638383     85.6358                              Yes   \n1                     25.622784     64.5722                              Yes   \n2                     22.359763     64.4364             Prefer not to answer   \n3                     28.278855     74.4885             Prefer not to answer   \n4                     25.520670     82.3472                              Yes   \n...                         ...         ...                              ...   \n2516                  34.258400     44.8799                              Yes   \n2517                  26.639700     80.7412             Prefer not to answer   \n2518                  37.562400     82.2092                              Yes   \n2519                  27.870900     76.0864                      Do not know   \n2520                  28.542700     80.6847                               No   \n\n      ...                   Operative procedures - OPCS4-0.0  \\\n0     ...  L46.3 Ligation of visceral branch of abdominal...   \n1     ...   K06.1 Repositioning of transposed great arteries   \n2     ...                T89.4 Cannulation of lymphatic duct   \n3     ...                      T77.2 Wide excision of muscle   \n4     ...            Z01.4 Tissue of occipital lobe of brain   \n...   ...                                                ...   \n2516  ...        B09.2 Excision of sublingual thyroid tissue   \n2517  ...  O17.9 Unspecified secondary closed reduction o...   \n2518  ...  D19.8 Other specified extirpation of lesion of...   \n2519  ...                                     Z22.9 Nose NEC   \n2520  ...  J67.8 Other specified diagnostic percutaneous ...   \n\n      Frequency of drinking alcohol-0.0  \\\n0                       Monthly or less   \n1                4 or more times a week   \n2                   2 to 3 times a week   \n3                   2 to 3 times a week   \n4                                 Never   \n...                                 ...   \n2516               2 to 4 times a month   \n2517               2 to 4 times a month   \n2518                    Monthly or less   \n2519               Prefer not to answer   \n2520                2 to 3 times a week   \n\n      Blood, blood-forming organs and certain immune disorders  \\\n0                                                   NaN          \n1                                                   NaN          \n2                                                   NaN          \n3                                                   NaN          \n4                                                   NaN          \n...                                                 ...          \n2516                                        sarcoidosis          \n2517                                                NaN          \n2518                                                NaN          \n2519                                                NaN          \n2520                                                NaN          \n\n      Endocrine, nutritional and metabolic diseases  \\\n0                                               NaN   \n1                                               NaN   \n2                                               NaN   \n3                                               NaN   \n4                                               NaN   \n...                                             ...   \n2516                                            NaN   \n2517                                            NaN   \n2518                                            NaN   \n2519                                            NaN   \n2520                                            NaN   \n\n      Mental and behavioural disorders  Nervous system disorders  \\\n0                                  NaN       alzheimer's disease   \n1                                  NaN                       NaN   \n2                                  NaN                       NaN   \n3                                  NaN                       NaN   \n4                                  NaN                       NaN   \n...                                ...                       ...   \n2516        bipolar affective disorder      huntington's disease   \n2517                               NaN                       NaN   \n2518                               NaN                       NaN   \n2519                               NaN                       NaN   \n2520                               NaN      huntington's disease   \n\n           Digestive system disorders  Respiratory system disorders  \\\n0                                 NaN                           NaN   \n1                                 NaN                           NaN   \n2                                 NaN                           NaN   \n3                                 NaN                           NaN   \n4                                 NaN                           NaN   \n...                               ...                           ...   \n2516                              NaN                           NaN   \n2517                              NaN                           NaN   \n2518  fibrosis and cirrhosis of liver                           NaN   \n2519                    dental caries                           NaN   \n2520                              NaN              acute bronchitis   \n\n      Circulatory system disorders  Covid-19 tests results  \n0                              NaN                Negative  \n1                              NaN                Negative  \n2                              NaN                Negative  \n3                              NaN                Negative  \n4                              NaN                Negative  \n...                            ...                     ...  \n2516                           NaN                Negative  \n2517                           NaN                Negative  \n2518                           NaN                Negative  \n2519                cardiomyopathy                Negative  \n2520                  haemorrhoids                Negative  \n\n[2521 rows x 81 columns]",
      "text/html": "<div>\n<style scoped>\n    .dataframe tbody tr th:only-of-type {\n        vertical-align: middle;\n    }\n\n    .dataframe tbody tr th {\n        vertical-align: top;\n    }\n\n    .dataframe thead th {\n        text-align: right;\n    }\n</style>\n<table border=\"1\" class=\"dataframe\">\n  <thead>\n    <tr style=\"text-align: right;\">\n      <th></th>\n      <th>eid</th>\n      <th>Sample name</th>\n      <th>Accession</th>\n      <th>Subject id</th>\n      <th>EGA sample id</th>\n      <th>Platelet count-0.0</th>\n      <th>Ethnic background-0.0</th>\n      <th>Body mass index (BMI)-0.0</th>\n      <th>Weight-0.0</th>\n      <th>Diabetes diagnosed by doctor-0.0</th>\n      <th>...</th>\n      <th>Operative procedures - OPCS4-0.0</th>\n      <th>Frequency of drinking alcohol-0.0</th>\n      <th>Blood, blood-forming organs and certain immune disorders</th>\n      <th>Endocrine, nutritional and metabolic diseases</th>\n      <th>Mental and behavioural disorders</th>\n      <th>Nervous system disorders</th>\n      <th>Digestive system disorders</th>\n      <th>Respiratory system disorders</th>\n      <th>Circulatory system disorders</th>\n      <th>Covid-19 tests results</th>\n    </tr>\n  </thead>\n  <tbody>\n    <tr>\n      <th>0</th>\n      <td>fake1</td>\n      <td>UKB_FAKE_1</td>\n      <td>SAMEA7082814</td>\n      <td>HG00096</td>\n      <td>EGAN00002587077</td>\n      <td>244.9589</td>\n      <td>African</td>\n      <td>26.638383</td>\n      <td>85.6358</td>\n      <td>Yes</td>\n      <td>...</td>\n      <td>L46.3 Ligation of visceral branch of abdominal...</td>\n      <td>Monthly or less</td>\n      <td>NaN</td>\n      <td>NaN</td>\n      <td>NaN</td>\n      <td>alzheimer's disease</td>\n      <td>NaN</td>\n      <td>NaN</td>\n      <td>NaN</td>\n      <td>Negative</td>\n    </tr>\n    <tr>\n      <th>1</th>\n      <td>fake2</td>\n      <td>UKB_FAKE_2</td>\n      <td>SAMEA7083131</td>\n      <td>HG00097</td>\n      <td>EGAN00002588943</td>\n      <td>215.7736</td>\n      <td>British</td>\n      <td>25.622784</td>\n      <td>64.5722</td>\n      <td>Yes</td>\n      <td>...</td>\n      <td>K06.1 Repositioning of transposed great arteries</td>\n      <td>4 or more times a week</td>\n      <td>NaN</td>\n      <td>NaN</td>\n      <td>NaN</td>\n      <td>NaN</td>\n      <td>NaN</td>\n      <td>NaN</td>\n      <td>NaN</td>\n      <td>Negative</td>\n    </tr>\n    <tr>\n      <th>2</th>\n      <td>fake3</td>\n      <td>UKB_FAKE_3</td>\n      <td>SAMEA7082831</td>\n      <td>HG00099</td>\n      <td>EGAN00002589008</td>\n      <td>312.3504</td>\n      <td>Asian or Asian British</td>\n      <td>22.359763</td>\n      <td>64.4364</td>\n      <td>Prefer not to answer</td>\n      <td>...</td>\n      <td>T89.4 Cannulation of lymphatic duct</td>\n      <td>2 to 3 times a week</td>\n      <td>NaN</td>\n      <td>NaN</td>\n      <td>NaN</td>\n      <td>NaN</td>\n      <td>NaN</td>\n      <td>NaN</td>\n      <td>NaN</td>\n      <td>Negative</td>\n    </tr>\n    <tr>\n      <th>3</th>\n      <td>fake4</td>\n      <td>UKB_FAKE_4</td>\n      <td>SAMEA7084191</td>\n      <td>HG00100</td>\n      <td>EGAN00002587535</td>\n      <td>150.0247</td>\n      <td>White and Asian</td>\n      <td>28.278855</td>\n      <td>74.4885</td>\n      <td>Prefer not to answer</td>\n      <td>...</td>\n      <td>T77.2 Wide excision of muscle</td>\n      <td>2 to 3 times a week</td>\n      <td>NaN</td>\n      <td>NaN</td>\n      <td>NaN</td>\n      <td>NaN</td>\n      <td>NaN</td>\n      <td>NaN</td>\n      <td>NaN</td>\n      <td>Negative</td>\n    </tr>\n    <tr>\n      <th>4</th>\n      <td>fake5</td>\n      <td>UKB_FAKE_5</td>\n      <td>SAMEA7082531</td>\n      <td>HG00101</td>\n      <td>EGAN00002589004</td>\n      <td>215.5871</td>\n      <td>White and Black African</td>\n      <td>25.520670</td>\n      <td>82.3472</td>\n      <td>Yes</td>\n      <td>...</td>\n      <td>Z01.4 Tissue of occipital lobe of brain</td>\n      <td>Never</td>\n      <td>NaN</td>\n      <td>NaN</td>\n      <td>NaN</td>\n      <td>NaN</td>\n      <td>NaN</td>\n      <td>NaN</td>\n      <td>NaN</td>\n      <td>Negative</td>\n    </tr>\n    <tr>\n      <th>...</th>\n      <td>...</td>\n      <td>...</td>\n      <td>...</td>\n      <td>...</td>\n      <td>...</td>\n      <td>...</td>\n      <td>...</td>\n      <td>...</td>\n      <td>...</td>\n      <td>...</td>\n      <td>...</td>\n      <td>...</td>\n      <td>...</td>\n      <td>...</td>\n      <td>...</td>\n      <td>...</td>\n      <td>...</td>\n      <td>...</td>\n      <td>...</td>\n      <td>...</td>\n      <td>...</td>\n    </tr>\n    <tr>\n      <th>2516</th>\n      <td>fake2517</td>\n      <td>UKB_FAKE_2517</td>\n      <td>SAMEA7784064</td>\n      <td>NA11993</td>\n      <td>NaN</td>\n      <td>217.7275</td>\n      <td>Pakistani</td>\n      <td>34.258400</td>\n      <td>44.8799</td>\n      <td>Yes</td>\n      <td>...</td>\n      <td>B09.2 Excision of sublingual thyroid tissue</td>\n      <td>2 to 4 times a month</td>\n      <td>sarcoidosis</td>\n      <td>NaN</td>\n      <td>bipolar affective disorder</td>\n      <td>huntington's disease</td>\n      <td>NaN</td>\n      <td>NaN</td>\n      <td>NaN</td>\n      <td>Negative</td>\n    </tr>\n    <tr>\n      <th>2517</th>\n      <td>fake2518</td>\n      <td>UKB_FAKE_2518</td>\n      <td>SAMEA7784065</td>\n      <td>NA18487</td>\n      <td>NaN</td>\n      <td>252.7306</td>\n      <td>Bangladeshi</td>\n      <td>26.639700</td>\n      <td>80.7412</td>\n      <td>Prefer not to answer</td>\n      <td>...</td>\n      <td>O17.9 Unspecified secondary closed reduction o...</td>\n      <td>2 to 4 times a month</td>\n      <td>NaN</td>\n      <td>NaN</td>\n      <td>NaN</td>\n      <td>NaN</td>\n      <td>NaN</td>\n      <td>NaN</td>\n      <td>NaN</td>\n      <td>Negative</td>\n    </tr>\n    <tr>\n      <th>2518</th>\n      <td>fake2519</td>\n      <td>UKB_FAKE_2519</td>\n      <td>SAMEA7784066</td>\n      <td>NA19150</td>\n      <td>NaN</td>\n      <td>175.0045</td>\n      <td>Any other Asian background</td>\n      <td>37.562400</td>\n      <td>82.2092</td>\n      <td>Yes</td>\n      <td>...</td>\n      <td>D19.8 Other specified extirpation of lesion of...</td>\n      <td>Monthly or less</td>\n      <td>NaN</td>\n      <td>NaN</td>\n      <td>NaN</td>\n      <td>NaN</td>\n      <td>fibrosis and cirrhosis of liver</td>\n      <td>NaN</td>\n      <td>NaN</td>\n      <td>Negative</td>\n    </tr>\n    <tr>\n      <th>2519</th>\n      <td>fake2520</td>\n      <td>UKB_FAKE_2520</td>\n      <td>SAMEA7784067</td>\n      <td>NA20537</td>\n      <td>NaN</td>\n      <td>310.7993</td>\n      <td>British</td>\n      <td>27.870900</td>\n      <td>76.0864</td>\n      <td>Do not know</td>\n      <td>...</td>\n      <td>Z22.9 Nose NEC</td>\n      <td>Prefer not to answer</td>\n      <td>NaN</td>\n      <td>NaN</td>\n      <td>NaN</td>\n      <td>NaN</td>\n      <td>dental caries</td>\n      <td>NaN</td>\n      <td>cardiomyopathy</td>\n      <td>Negative</td>\n    </tr>\n    <tr>\n      <th>2520</th>\n      <td>fake2521</td>\n      <td>UKB_FAKE_2521</td>\n      <td>SAMEA7784068</td>\n      <td>NA20816</td>\n      <td>NaN</td>\n      <td>160.4683</td>\n      <td>Asian or Asian British</td>\n      <td>28.542700</td>\n      <td>80.6847</td>\n      <td>No</td>\n      <td>...</td>\n      <td>J67.8 Other specified diagnostic percutaneous ...</td>\n      <td>2 to 3 times a week</td>\n      <td>NaN</td>\n      <td>NaN</td>\n      <td>NaN</td>\n      <td>huntington's disease</td>\n      <td>NaN</td>\n      <td>acute bronchitis</td>\n      <td>haemorrhoids</td>\n      <td>Negative</td>\n    </tr>\n  </tbody>\n</table>\n<p>2521 rows × 81 columns</p>\n</div>"
     },
     "execution_count": 2,
     "metadata": {},
     "output_type": "execute_result"
    }
   ],
   "source": [
    "df = pd.read_csv('../resources/ukb_synthetic_data_tofu.csv')\n",
    "df"
   ],
   "metadata": {
    "collapsed": false
   }
  },
  {
   "cell_type": "code",
   "execution_count": 24,
   "outputs": [
    {
     "name": "stdout",
     "output_type": "stream",
     "text": [
      "alzheimer's disease\n",
      "multiple sclerosis\n",
      "huntington's disease\n"
     ]
    }
   ],
   "source": [
    "# disorders = [x for x in df['Nervous system disorders']]\n",
    "nervous_disorders = df['Nervous system disorders'].unique()\n",
    "nervous_disorders = [ x for x in nervous_disorders if x == x]\n",
    "print(nervous_disorders)"
   ],
   "metadata": {
    "collapsed": false
   }
  },
  {
   "cell_type": "code",
   "execution_count": 26,
   "outputs": [
    {
     "data": {
      "text/plain": "{'text': \"alzheimer's disease\",\n 'annotations': [{'text': \"alzheimer's disease\",\n   'ontology': {'id': 'MONDO:0004975', 'label': 'Alzheimer disease'},\n   'score': 80,\n   'source': 'Zooma'}]}"
     },
     "execution_count": 26,
     "metadata": {},
     "output_type": "execute_result"
    }
   ],
   "source": [
    "annotator_endpoint = 'http://45.88.81.24:8080/annotate'\n",
    "def annotate(term, model, concept):\n",
    "  params = {\"text\": term, \"model\": model, \"concept\": concept}\n",
    "  response = requests.get(annotator_endpoint, params=params)\n",
    "  return response.json()\n",
    "\n",
    "annotate(\"alzheimer's disease\", \"ZOOMA\", \"disease\")\n"
   ],
   "metadata": {
    "collapsed": false
   }
  },
  {
   "cell_type": "code",
   "execution_count": null,
   "outputs": [],
   "source": [
    "annotations = []\n",
    "for x in nervous_disorders:\n",
    "    zooma_annotation = annotate(x, \"ZOOMA\", \"disease\")\n",
    "    if zooma_annotation[\"annotations\"]:\n",
    "        ontology = zooma_annotation[\"annotations\"][0][\"ontology\"]\n",
    "        zooma_annotation =  ontology[\"id\"] + \" - \" + ontology[\"label\"]\n",
    "    else:\n",
    "        zooma_annotation = \"-\"\n",
    "\n",
    "    hesso_annotation = annotate(x, \"HESSO_SIB\", \"disease\")\n",
    "    if hesso_annotation[\"annotations\"]:\n",
    "        ontology = hesso_annotation[\"annotations\"][0][\"ontology\"]\n",
    "        hesso_annotation =  ontology[\"id\"] + \" - \" + ontology[\"label\"]\n",
    "    else:\n",
    "        hesso_annotation = \"-\"\n",
    "\n",
    "    annotations.append({\n",
    "        \"term\": x,\n",
    "        \"zooma\": zooma_annotation,\n",
    "        \"hesso_sib\": hesso_annotation\n",
    "    })\n",
    "\n",
    "df = pd.DataFrame(annotations)\n",
    "df.head()\n"
   ],
   "metadata": {
    "collapsed": false
   }
  }
 ],
 "metadata": {
  "kernelspec": {
   "display_name": "Python 3",
   "language": "python",
   "name": "python3"
  },
  "language_info": {
   "codemirror_mode": {
    "name": "ipython",
    "version": 2
   },
   "file_extension": ".py",
   "mimetype": "text/x-python",
   "name": "python",
   "nbconvert_exporter": "python",
   "pygments_lexer": "ipython2",
   "version": "2.7.6"
  }
 },
 "nbformat": 4,
 "nbformat_minor": 0
}
