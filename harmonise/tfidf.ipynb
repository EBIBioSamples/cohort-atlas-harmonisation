{
 "cells": [
  {
   "cell_type": "code",
   "execution_count": 5,
   "metadata": {
    "collapsed": true
   },
   "outputs": [
    {
     "name": "stderr",
     "output_type": "stream",
     "text": [
      "[nltk_data] Downloading package wordnet to /home/isuru/nltk_data...\n"
     ]
    },
    {
     "data": {
      "text/plain": "True"
     },
     "execution_count": 5,
     "metadata": {},
     "output_type": "execute_result"
    }
   ],
   "source": [
    "import numpy as np\n",
    "import pandas as pd\n",
    "from tqdm import tqdm\n",
    "\n",
    "import re\n",
    "import string\n",
    "\n",
    "import nltk\n",
    "from nltk.corpus import stopwords\n",
    "from nltk.stem import WordNetLemmatizer\n",
    "stop_words = stopwords.words('english')\n",
    "\n",
    "from sklearn.model_selection import train_test_split\n",
    "from sklearn.metrics import confusion_matrix,classification_report\n",
    "from sklearn.feature_extraction.text import CountVectorizer, TfidfVectorizer\n",
    "from sklearn.ensemble import RandomForestClassifier\n",
    "from sklearn.metrics import confusion_matrix,classification_report\n",
    "\n",
    "import matplotlib.pyplot as plt\n",
    "import seaborn as sns\n",
    "\n",
    "nltk.download('wordnet')"
   ]
  },
  {
   "cell_type": "code",
   "execution_count": 33,
   "outputs": [
    {
     "data": {
      "text/plain": "                             TERM              ID  \\\n0                          saliva  UBERON_0001836   \n1                     sample type  UBERON_0000463   \n2  Microbiome markers (rRNA, etc)   GECKO_0000040   \n3                        genomics   GECKO_0000032   \n4           life stage/time point  UBERON_0000105   \n\n                                         DESCRIPTION  PARENT  \n0  A fluid produced in the oral cavity by salivar...     NaN  \n1  Material anatomical entity in a gaseous, liqui...     NaN  \n2  A genomic assay that profiles the microorganis...     NaN  \n3  An assay that investigates the genome or genom...     NaN  \n4  A spatiotemporal region encompassing some part...     NaN  ",
      "text/html": "<div>\n<style scoped>\n    .dataframe tbody tr th:only-of-type {\n        vertical-align: middle;\n    }\n\n    .dataframe tbody tr th {\n        vertical-align: top;\n    }\n\n    .dataframe thead th {\n        text-align: right;\n    }\n</style>\n<table border=\"1\" class=\"dataframe\">\n  <thead>\n    <tr style=\"text-align: right;\">\n      <th></th>\n      <th>TERM</th>\n      <th>ID</th>\n      <th>DESCRIPTION</th>\n      <th>PARENT</th>\n    </tr>\n  </thead>\n  <tbody>\n    <tr>\n      <th>0</th>\n      <td>saliva</td>\n      <td>UBERON_0001836</td>\n      <td>A fluid produced in the oral cavity by salivar...</td>\n      <td>NaN</td>\n    </tr>\n    <tr>\n      <th>1</th>\n      <td>sample type</td>\n      <td>UBERON_0000463</td>\n      <td>Material anatomical entity in a gaseous, liqui...</td>\n      <td>NaN</td>\n    </tr>\n    <tr>\n      <th>2</th>\n      <td>Microbiome markers (rRNA, etc)</td>\n      <td>GECKO_0000040</td>\n      <td>A genomic assay that profiles the microorganis...</td>\n      <td>NaN</td>\n    </tr>\n    <tr>\n      <th>3</th>\n      <td>genomics</td>\n      <td>GECKO_0000032</td>\n      <td>An assay that investigates the genome or genom...</td>\n      <td>NaN</td>\n    </tr>\n    <tr>\n      <th>4</th>\n      <td>life stage/time point</td>\n      <td>UBERON_0000105</td>\n      <td>A spatiotemporal region encompassing some part...</td>\n      <td>NaN</td>\n    </tr>\n  </tbody>\n</table>\n</div>"
     },
     "execution_count": 33,
     "metadata": {},
     "output_type": "execute_result"
    }
   ],
   "source": [
    "train_df = pd.read_csv('../resources/standard_terms.csv')\n",
    "test_df = pd.read_csv('../resources/data_dictionary_estbb.csv')\n",
    "train_df.head()"
   ],
   "metadata": {
    "collapsed": false
   }
  },
  {
   "cell_type": "code",
   "execution_count": 34,
   "outputs": [
    {
     "data": {
      "text/plain": "                   TERM     DESCRIPTION  PARENT         FEATURE\n0          Person skood           SKOOD  Person           skood\n1         Person gender          Gender  Person          gender\n2      Person birthDate       Birthdate  Person       birthdate\n3      Person birthYear   Year of birth  Person      year birth\n4  Person agreementDate  Agreement date  Person  agreement date",
      "text/html": "<div>\n<style scoped>\n    .dataframe tbody tr th:only-of-type {\n        vertical-align: middle;\n    }\n\n    .dataframe tbody tr th {\n        vertical-align: top;\n    }\n\n    .dataframe thead th {\n        text-align: right;\n    }\n</style>\n<table border=\"1\" class=\"dataframe\">\n  <thead>\n    <tr style=\"text-align: right;\">\n      <th></th>\n      <th>TERM</th>\n      <th>DESCRIPTION</th>\n      <th>PARENT</th>\n      <th>FEATURE</th>\n    </tr>\n  </thead>\n  <tbody>\n    <tr>\n      <th>0</th>\n      <td>Person skood</td>\n      <td>SKOOD</td>\n      <td>Person</td>\n      <td>skood</td>\n    </tr>\n    <tr>\n      <th>1</th>\n      <td>Person gender</td>\n      <td>Gender</td>\n      <td>Person</td>\n      <td>gender</td>\n    </tr>\n    <tr>\n      <th>2</th>\n      <td>Person birthDate</td>\n      <td>Birthdate</td>\n      <td>Person</td>\n      <td>birthdate</td>\n    </tr>\n    <tr>\n      <th>3</th>\n      <td>Person birthYear</td>\n      <td>Year of birth</td>\n      <td>Person</td>\n      <td>year birth</td>\n    </tr>\n    <tr>\n      <th>4</th>\n      <td>Person agreementDate</td>\n      <td>Agreement date</td>\n      <td>Person</td>\n      <td>agreement date</td>\n    </tr>\n  </tbody>\n</table>\n</div>"
     },
     "execution_count": 34,
     "metadata": {},
     "output_type": "execute_result"
    }
   ],
   "source": [
    "sw = stopwords.words('english')\n",
    "lemmatizer = WordNetLemmatizer()\n",
    "\n",
    "def clean_text(text):\n",
    "    text = text.lower()\n",
    "    text = re.sub(r\"[^a-zA-Z?.!,¿]+\", \" \", text) # replacing everything with space except (a-z, A-Z, \".\", \"?\", \"!\", \",\")\n",
    "    text = [word.lower() for word in text.split() if word.lower() not in sw]\n",
    "    text = [lemmatizer.lemmatize(word) for word in text]\n",
    "    text = \" \".join(text) #removing stopwords\n",
    "    return text\n",
    "\n",
    "train_df['DESCRIPTION'] = train_df['DESCRIPTION'].fillna('')\n",
    "# train_df['FEATURE'] = train_df.apply(lambda x: x['TERM'] + ' ' + x['DESCRIPTION'], axis=1)\n",
    "train_df['FEATURE'] = train_df['TERM']\n",
    "train_df['FEATURE'] = train_df['FEATURE'].apply(lambda x: clean_text(x))\n",
    "\n",
    "test_df['DESCRIPTION'] = test_df['DESCRIPTION'].fillna('')\n",
    "test_df['TERM'] = test_df.apply(lambda x: x['TERM'].replace('.', ' '), axis=1)\n",
    "# test_df['FEATURE'] = test_df.apply(lambda x: x['TERM'] + ' ' + x['DESCRIPTION'], axis=1)\n",
    "test_df['FEATURE'] = test_df['DESCRIPTION']\n",
    "test_df['FEATURE'] = test_df['FEATURE'].apply(lambda x: clean_text(x))\n",
    "\n",
    "test_df.head()"
   ],
   "metadata": {
    "collapsed": false
   }
  },
  {
   "cell_type": "code",
   "execution_count": 35,
   "outputs": [
    {
     "data": {
      "text/plain": "                                TERM  \\\n0                       Person skood   \n1                      Person gender   \n2                   Person birthDate   \n3                   Person birthYear   \n4               Person agreementDate   \n5                    Person ageToday   \n6              Person ageAtAgreement   \n7         Person ageGroupAtAgreement   \n8                   Person deathDate   \n9                   Person deathYear   \n10            PersonPortrait lastBmi   \n11         PersonPortrait lastWeight   \n12         PersonPortrait lastHeight   \n13            PersonPortrait bmiDate   \n14          PersonPortrait bmiSource   \n15  PersonPortrait lastSmokingStatus   \n16        PersonPortrait smokingDate   \n17      PersonPortrait smokingSource   \n18  PersonPortrait lastAlcoholStatus   \n19   PersonPortrait lastAlcoholStyle   \n\n                                          DESCRIPTION          PARENT  \\\n0                                               SKOOD          Person   \n1                                              Gender          Person   \n2                                           Birthdate          Person   \n3                                       Year of birth          Person   \n4                                      Agreement date          Person   \n5                                      Age at present          Person   \n6                           Age at the agreement date          Person   \n7                                                              Person   \n8                                       Date of death          Person   \n9                                       Year of death          Person   \n10                                     Last BMI value  PersonPortrait   \n11                                  Last weight value  PersonPortrait   \n12                                  Last height value  PersonPortrait   \n13  The date of last weight, height and BMI measur...  PersonPortrait   \n14                              Last bmi value source  PersonPortrait   \n15                                Last smoking status  PersonPortrait   \n16                        Date of last smoking report  PersonPortrait   \n17                         Last smoking status source  PersonPortrait   \n18                 Last status of alcohol consumption  PersonPortrait   \n19                         Alcohol consumption habits  PersonPortrait   \n\n                                     FEATURE  \\\n0                                      skood   \n1                                     gender   \n2                                  birthdate   \n3                                 year birth   \n4                             agreement date   \n5                                age present   \n6                         age agreement date   \n7                                              \n8                                 date death   \n9                                 year death   \n10                            last bmi value   \n11                         last weight value   \n12                         last height value   \n13  date last weight, height bmi measurement   \n14                     last bmi value source   \n15                       last smoking status   \n16                  date last smoking report   \n17                last smoking status source   \n18           last status alcohol consumption   \n19                 alcohol consumption habit   \n\n                                CLASS  \n0                              height  \n1                              gender  \n2                       age/birthdate  \n3                              height  \n4   date and time-related information  \n5                       age/birthdate  \n6                       age/birthdate  \n7                              height  \n8                      cause of death  \n9                      cause of death  \n10        personal beliefs and values  \n11                             weight  \n12                             height  \n13                             height  \n14        personal beliefs and values  \n15                     marital status  \n16  date and time-related information  \n17                     marital status  \n18                     marital status  \n19                alcohol use history  ",
      "text/html": "<div>\n<style scoped>\n    .dataframe tbody tr th:only-of-type {\n        vertical-align: middle;\n    }\n\n    .dataframe tbody tr th {\n        vertical-align: top;\n    }\n\n    .dataframe thead th {\n        text-align: right;\n    }\n</style>\n<table border=\"1\" class=\"dataframe\">\n  <thead>\n    <tr style=\"text-align: right;\">\n      <th></th>\n      <th>TERM</th>\n      <th>DESCRIPTION</th>\n      <th>PARENT</th>\n      <th>FEATURE</th>\n      <th>CLASS</th>\n    </tr>\n  </thead>\n  <tbody>\n    <tr>\n      <th>0</th>\n      <td>Person skood</td>\n      <td>SKOOD</td>\n      <td>Person</td>\n      <td>skood</td>\n      <td>height</td>\n    </tr>\n    <tr>\n      <th>1</th>\n      <td>Person gender</td>\n      <td>Gender</td>\n      <td>Person</td>\n      <td>gender</td>\n      <td>gender</td>\n    </tr>\n    <tr>\n      <th>2</th>\n      <td>Person birthDate</td>\n      <td>Birthdate</td>\n      <td>Person</td>\n      <td>birthdate</td>\n      <td>age/birthdate</td>\n    </tr>\n    <tr>\n      <th>3</th>\n      <td>Person birthYear</td>\n      <td>Year of birth</td>\n      <td>Person</td>\n      <td>year birth</td>\n      <td>height</td>\n    </tr>\n    <tr>\n      <th>4</th>\n      <td>Person agreementDate</td>\n      <td>Agreement date</td>\n      <td>Person</td>\n      <td>agreement date</td>\n      <td>date and time-related information</td>\n    </tr>\n    <tr>\n      <th>5</th>\n      <td>Person ageToday</td>\n      <td>Age at present</td>\n      <td>Person</td>\n      <td>age present</td>\n      <td>age/birthdate</td>\n    </tr>\n    <tr>\n      <th>6</th>\n      <td>Person ageAtAgreement</td>\n      <td>Age at the agreement date</td>\n      <td>Person</td>\n      <td>age agreement date</td>\n      <td>age/birthdate</td>\n    </tr>\n    <tr>\n      <th>7</th>\n      <td>Person ageGroupAtAgreement</td>\n      <td></td>\n      <td>Person</td>\n      <td></td>\n      <td>height</td>\n    </tr>\n    <tr>\n      <th>8</th>\n      <td>Person deathDate</td>\n      <td>Date of death</td>\n      <td>Person</td>\n      <td>date death</td>\n      <td>cause of death</td>\n    </tr>\n    <tr>\n      <th>9</th>\n      <td>Person deathYear</td>\n      <td>Year of death</td>\n      <td>Person</td>\n      <td>year death</td>\n      <td>cause of death</td>\n    </tr>\n    <tr>\n      <th>10</th>\n      <td>PersonPortrait lastBmi</td>\n      <td>Last BMI value</td>\n      <td>PersonPortrait</td>\n      <td>last bmi value</td>\n      <td>personal beliefs and values</td>\n    </tr>\n    <tr>\n      <th>11</th>\n      <td>PersonPortrait lastWeight</td>\n      <td>Last weight value</td>\n      <td>PersonPortrait</td>\n      <td>last weight value</td>\n      <td>weight</td>\n    </tr>\n    <tr>\n      <th>12</th>\n      <td>PersonPortrait lastHeight</td>\n      <td>Last height value</td>\n      <td>PersonPortrait</td>\n      <td>last height value</td>\n      <td>height</td>\n    </tr>\n    <tr>\n      <th>13</th>\n      <td>PersonPortrait bmiDate</td>\n      <td>The date of last weight, height and BMI measur...</td>\n      <td>PersonPortrait</td>\n      <td>date last weight, height bmi measurement</td>\n      <td>height</td>\n    </tr>\n    <tr>\n      <th>14</th>\n      <td>PersonPortrait bmiSource</td>\n      <td>Last bmi value source</td>\n      <td>PersonPortrait</td>\n      <td>last bmi value source</td>\n      <td>personal beliefs and values</td>\n    </tr>\n    <tr>\n      <th>15</th>\n      <td>PersonPortrait lastSmokingStatus</td>\n      <td>Last smoking status</td>\n      <td>PersonPortrait</td>\n      <td>last smoking status</td>\n      <td>marital status</td>\n    </tr>\n    <tr>\n      <th>16</th>\n      <td>PersonPortrait smokingDate</td>\n      <td>Date of last smoking report</td>\n      <td>PersonPortrait</td>\n      <td>date last smoking report</td>\n      <td>date and time-related information</td>\n    </tr>\n    <tr>\n      <th>17</th>\n      <td>PersonPortrait smokingSource</td>\n      <td>Last smoking status source</td>\n      <td>PersonPortrait</td>\n      <td>last smoking status source</td>\n      <td>marital status</td>\n    </tr>\n    <tr>\n      <th>18</th>\n      <td>PersonPortrait lastAlcoholStatus</td>\n      <td>Last status of alcohol consumption</td>\n      <td>PersonPortrait</td>\n      <td>last status alcohol consumption</td>\n      <td>marital status</td>\n    </tr>\n    <tr>\n      <th>19</th>\n      <td>PersonPortrait lastAlcoholStyle</td>\n      <td>Alcohol consumption habits</td>\n      <td>PersonPortrait</td>\n      <td>alcohol consumption habit</td>\n      <td>alcohol use history</td>\n    </tr>\n  </tbody>\n</table>\n</div>"
     },
     "execution_count": 35,
     "metadata": {},
     "output_type": "execute_result"
    }
   ],
   "source": [
    "x_train = train_df['FEATURE']\n",
    "x_test = test_df['FEATURE']\n",
    "y_train = train_df['TERM']\n",
    "\n",
    "tfidf_vectorizer = TfidfVectorizer()\n",
    "tfidf_train_vectors = tfidf_vectorizer.fit_transform(x_train)\n",
    "tfidf_test_vectors = tfidf_vectorizer.transform(x_test)\n",
    "\n",
    "classifier = RandomForestClassifier()\n",
    "classifier.fit(tfidf_train_vectors,y_train)\n",
    "y_pred = classifier.predict(tfidf_test_vectors)\n",
    "\n",
    "test_df[\"CLASS\"] = y_pred\n",
    "test_df.head(20)"
   ],
   "metadata": {
    "collapsed": false
   }
  },
  {
   "cell_type": "code",
   "execution_count": null,
   "outputs": [],
   "source": [],
   "metadata": {
    "collapsed": false
   }
  }
 ],
 "metadata": {
  "kernelspec": {
   "display_name": "Python 3",
   "language": "python",
   "name": "python3"
  },
  "language_info": {
   "codemirror_mode": {
    "name": "ipython",
    "version": 2
   },
   "file_extension": ".py",
   "mimetype": "text/x-python",
   "name": "python",
   "nbconvert_exporter": "python",
   "pygments_lexer": "ipython2",
   "version": "2.7.6"
  }
 },
 "nbformat": 4,
 "nbformat_minor": 0
}
